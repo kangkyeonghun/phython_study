{
 "cells": [
  {
   "cell_type": "code",
   "execution_count": 2,
   "metadata": {},
   "outputs": [
    {
     "name": "stdout",
     "output_type": "stream",
     "text": [
      "Requirement already satisfied: lightgbm in c:\\users\\82104\\anaconda3\\lib\\site-packages (3.2.1)Note: you may need to restart the kernel to use updated packages.\n",
      "Requirement already satisfied: scikit-learn!=0.22.0 in c:\\users\\82104\\anaconda3\\lib\\site-packages (from lightgbm) (0.23.2)\n",
      "Requirement already satisfied: scipy in c:\\users\\82104\\anaconda3\\lib\\site-packages (from lightgbm) (1.5.2)\n",
      "Requirement already satisfied: numpy in c:\\users\\82104\\anaconda3\\lib\\site-packages (from lightgbm) (1.19.2)\n",
      "Requirement already satisfied: wheel in c:\\users\\82104\\anaconda3\\lib\\site-packages (from lightgbm) (0.35.1)\n",
      "Requirement already satisfied: joblib>=0.11 in c:\\users\\82104\\anaconda3\\lib\\site-packages (from scikit-learn!=0.22.0->lightgbm) (0.17.0)\n",
      "Requirement already satisfied: threadpoolctl>=2.0.0 in c:\\users\\82104\\anaconda3\\lib\\site-packages (from scikit-learn!=0.22.0->lightgbm) (2.1.0)\n",
      "\n"
     ]
    }
   ],
   "source": [
    "pip install lightgbm"
   ]
  },
  {
   "cell_type": "code",
   "execution_count": 3,
   "metadata": {},
   "outputs": [],
   "source": [
    "import pandas as pd\n",
    "pd.set_option(\"display.max_row\", 100)\n",
    "pd.set_option(\"display.max_column\", 100)\n",
    "import numpy as np\n",
    "import os\n",
    "\n",
    "from sklearn.preprocessing import LabelEncoder\n",
    "from sklearn.metrics import mean_squared_error as mse\n",
    "from sklearn.model_selection import train_test_split, StratifiedKFold, KFold\n",
    "from lightgbm import LGBMRegressor"
   ]
  },
  {
   "cell_type": "code",
   "execution_count": 4,
   "metadata": {},
   "outputs": [],
   "source": [
    "cus = pd.read_csv(\"C:/Users/82104/Desktop/open/cus_info.csv\")\n",
    "iem = pd.read_csv(\"C:/Users/82104/Desktop/open/iem_info.csv\")\n",
    "hist = pd.read_csv(\"C:/Users/82104/Desktop/open/stk_bnc_hist.csv\")\n",
    "train = pd.read_csv(\"C:/Users/82104/Desktop/open/stk_hld_train.csv\")\n",
    "test = pd.read_csv(\"C:/Users/82104/Desktop/open/stk_hld_test.csv\")\n",
    "\n",
    "submission = pd.read_csv(\"C:/Users/82104/Desktop/open/sample_submission.csv\")"
   ]
  },
  {
   "cell_type": "code",
   "execution_count": 5,
   "metadata": {},
   "outputs": [],
   "source": [
    "train[\"hist_d\"] = train[\"hold_d\"]*0.6\n",
    "train.hist_d = np.trunc(train[\"hist_d\"])\n",
    "# train 데이터에는 test 데이터에 있는 hist_d 컬럼이 없기 때문에 임의로 생성하는 과정.\n"
   ]
  },
  {
   "cell_type": "code",
   "execution_count": 6,
   "metadata": {},
   "outputs": [
    {
     "data": {
      "text/html": [
       "<div>\n",
       "<style scoped>\n",
       "    .dataframe tbody tr th:only-of-type {\n",
       "        vertical-align: middle;\n",
       "    }\n",
       "\n",
       "    .dataframe tbody tr th {\n",
       "        vertical-align: top;\n",
       "    }\n",
       "\n",
       "    .dataframe thead th {\n",
       "        text-align: right;\n",
       "    }\n",
       "</style>\n",
       "<table border=\"1\" class=\"dataframe\">\n",
       "  <thead>\n",
       "    <tr style=\"text-align: right;\">\n",
       "      <th></th>\n",
       "      <th>act_id</th>\n",
       "      <th>iem_cd</th>\n",
       "      <th>byn_dt</th>\n",
       "      <th>hold_d</th>\n",
       "      <th>hist_d</th>\n",
       "    </tr>\n",
       "  </thead>\n",
       "  <tbody>\n",
       "    <tr>\n",
       "      <th>0</th>\n",
       "      <td>0ad104dbed99be0cd858aa772765ddedade554601a981b...</td>\n",
       "      <td>A006360</td>\n",
       "      <td>20180726</td>\n",
       "      <td>11</td>\n",
       "      <td>6.0</td>\n",
       "    </tr>\n",
       "    <tr>\n",
       "      <th>1</th>\n",
       "      <td>0ad104dbed99be0cd858aa772765ddedade554601a981b...</td>\n",
       "      <td>A005930</td>\n",
       "      <td>20180131</td>\n",
       "      <td>80</td>\n",
       "      <td>48.0</td>\n",
       "    </tr>\n",
       "    <tr>\n",
       "      <th>2</th>\n",
       "      <td>0ad104dbed99be0cd858aa772765ddedade554601a981b...</td>\n",
       "      <td>A005070</td>\n",
       "      <td>20180517</td>\n",
       "      <td>5</td>\n",
       "      <td>3.0</td>\n",
       "    </tr>\n",
       "  </tbody>\n",
       "</table>\n",
       "</div>"
      ],
      "text/plain": [
       "                                              act_id   iem_cd    byn_dt  \\\n",
       "0  0ad104dbed99be0cd858aa772765ddedade554601a981b...  A006360  20180726   \n",
       "1  0ad104dbed99be0cd858aa772765ddedade554601a981b...  A005930  20180131   \n",
       "2  0ad104dbed99be0cd858aa772765ddedade554601a981b...  A005070  20180517   \n",
       "\n",
       "   hold_d  hist_d  \n",
       "0      11     6.0  \n",
       "1      80    48.0  \n",
       "2       5     3.0  "
      ]
     },
     "execution_count": 6,
     "metadata": {},
     "output_type": "execute_result"
    }
   ],
   "source": [
    "train.head(3) # train 데이터에 임의로 생성한 hist_d 확인 ( 보유기간 * 0.6 )"
   ]
  },
  {
   "cell_type": "code",
   "execution_count": 7,
   "metadata": {},
   "outputs": [],
   "source": [
    "train_data = pd.merge(train, cus, how = \"left\", on = [\"act_id\"])\n",
    "train_data = pd.merge(train, iem, how = \"left\", on = [\"iem_cd\"])\n",
    "\n",
    "test_data = pd.merge(test, cus, how = \"left\", on = [\"act_id\"])\n",
    "test_data = pd.merge(test, iem, how = \"left\", on = [\"iem_cd\"])\n",
    "\n",
    "# train 데이터와 test 데이터에 고객정보와 주식정보를 추가하는 과정."
   ]
  },
  {
   "cell_type": "code",
   "execution_count": 8,
   "metadata": {},
   "outputs": [
    {
     "data": {
      "text/html": [
       "<div>\n",
       "<style scoped>\n",
       "    .dataframe tbody tr th:only-of-type {\n",
       "        vertical-align: middle;\n",
       "    }\n",
       "\n",
       "    .dataframe tbody tr th {\n",
       "        vertical-align: top;\n",
       "    }\n",
       "\n",
       "    .dataframe thead th {\n",
       "        text-align: right;\n",
       "    }\n",
       "</style>\n",
       "<table border=\"1\" class=\"dataframe\">\n",
       "  <thead>\n",
       "    <tr style=\"text-align: right;\">\n",
       "      <th></th>\n",
       "      <th>act_id</th>\n",
       "      <th>iem_cd</th>\n",
       "      <th>byn_dt</th>\n",
       "      <th>hold_d</th>\n",
       "      <th>hist_d</th>\n",
       "      <th>iem_krl_nm</th>\n",
       "      <th>btp_cfc_cd</th>\n",
       "      <th>mkt_pr_tal_scl_tp_cd</th>\n",
       "      <th>stk_dit_cd</th>\n",
       "    </tr>\n",
       "  </thead>\n",
       "  <tbody>\n",
       "    <tr>\n",
       "      <th>0</th>\n",
       "      <td>0ad104dbed99be0cd858aa772765ddedade554601a981b...</td>\n",
       "      <td>A006360</td>\n",
       "      <td>20180726</td>\n",
       "      <td>11</td>\n",
       "      <td>6.0</td>\n",
       "      <td>GS건설</td>\n",
       "      <td>1</td>\n",
       "      <td>1</td>\n",
       "      <td>1</td>\n",
       "    </tr>\n",
       "    <tr>\n",
       "      <th>1</th>\n",
       "      <td>0ad104dbed99be0cd858aa772765ddedade554601a981b...</td>\n",
       "      <td>A005930</td>\n",
       "      <td>20180131</td>\n",
       "      <td>80</td>\n",
       "      <td>48.0</td>\n",
       "      <td>삼성전자</td>\n",
       "      <td>9</td>\n",
       "      <td>1</td>\n",
       "      <td>1</td>\n",
       "    </tr>\n",
       "    <tr>\n",
       "      <th>2</th>\n",
       "      <td>0ad104dbed99be0cd858aa772765ddedade554601a981b...</td>\n",
       "      <td>A005070</td>\n",
       "      <td>20180517</td>\n",
       "      <td>5</td>\n",
       "      <td>3.0</td>\n",
       "      <td>코스모신소재</td>\n",
       "      <td>12</td>\n",
       "      <td>2</td>\n",
       "      <td>99</td>\n",
       "    </tr>\n",
       "  </tbody>\n",
       "</table>\n",
       "</div>"
      ],
      "text/plain": [
       "                                              act_id   iem_cd    byn_dt  \\\n",
       "0  0ad104dbed99be0cd858aa772765ddedade554601a981b...  A006360  20180726   \n",
       "1  0ad104dbed99be0cd858aa772765ddedade554601a981b...  A005930  20180131   \n",
       "2  0ad104dbed99be0cd858aa772765ddedade554601a981b...  A005070  20180517   \n",
       "\n",
       "   hold_d  hist_d iem_krl_nm  btp_cfc_cd  mkt_pr_tal_scl_tp_cd  stk_dit_cd  \n",
       "0      11     6.0       GS건설           1                     1           1  \n",
       "1      80    48.0       삼성전자           9                     1           1  \n",
       "2       5     3.0     코스모신소재          12                     2          99  "
      ]
     },
     "execution_count": 8,
     "metadata": {},
     "output_type": "execute_result"
    }
   ],
   "source": [
    "train_data.head(3)"
   ]
  },
  {
   "cell_type": "code",
   "execution_count": 9,
   "metadata": {},
   "outputs": [],
   "source": [
    "train_label = train_data[\"hold_d\"]\n",
    "train_data.drop([\"hold_d\"], axis = 1, inplace = True)"
   ]
  },
  {
   "cell_type": "code",
   "execution_count": 10,
   "metadata": {},
   "outputs": [
    {
     "data": {
      "text/html": [
       "<div>\n",
       "<style scoped>\n",
       "    .dataframe tbody tr th:only-of-type {\n",
       "        vertical-align: middle;\n",
       "    }\n",
       "\n",
       "    .dataframe tbody tr th {\n",
       "        vertical-align: top;\n",
       "    }\n",
       "\n",
       "    .dataframe thead th {\n",
       "        text-align: right;\n",
       "    }\n",
       "</style>\n",
       "<table border=\"1\" class=\"dataframe\">\n",
       "  <thead>\n",
       "    <tr style=\"text-align: right;\">\n",
       "      <th></th>\n",
       "      <th>act_id</th>\n",
       "      <th>iem_cd</th>\n",
       "      <th>byn_dt</th>\n",
       "      <th>hist_d</th>\n",
       "      <th>iem_krl_nm</th>\n",
       "      <th>btp_cfc_cd</th>\n",
       "      <th>mkt_pr_tal_scl_tp_cd</th>\n",
       "      <th>stk_dit_cd</th>\n",
       "    </tr>\n",
       "  </thead>\n",
       "  <tbody>\n",
       "    <tr>\n",
       "      <th>0</th>\n",
       "      <td>0ad104dbed99be0cd858aa772765ddedade554601a981b...</td>\n",
       "      <td>A006360</td>\n",
       "      <td>20180726</td>\n",
       "      <td>6.0</td>\n",
       "      <td>GS건설</td>\n",
       "      <td>1</td>\n",
       "      <td>1</td>\n",
       "      <td>1</td>\n",
       "    </tr>\n",
       "    <tr>\n",
       "      <th>1</th>\n",
       "      <td>0ad104dbed99be0cd858aa772765ddedade554601a981b...</td>\n",
       "      <td>A005930</td>\n",
       "      <td>20180131</td>\n",
       "      <td>48.0</td>\n",
       "      <td>삼성전자</td>\n",
       "      <td>9</td>\n",
       "      <td>1</td>\n",
       "      <td>1</td>\n",
       "    </tr>\n",
       "    <tr>\n",
       "      <th>2</th>\n",
       "      <td>0ad104dbed99be0cd858aa772765ddedade554601a981b...</td>\n",
       "      <td>A005070</td>\n",
       "      <td>20180517</td>\n",
       "      <td>3.0</td>\n",
       "      <td>코스모신소재</td>\n",
       "      <td>12</td>\n",
       "      <td>2</td>\n",
       "      <td>99</td>\n",
       "    </tr>\n",
       "  </tbody>\n",
       "</table>\n",
       "</div>"
      ],
      "text/plain": [
       "                                              act_id   iem_cd    byn_dt  \\\n",
       "0  0ad104dbed99be0cd858aa772765ddedade554601a981b...  A006360  20180726   \n",
       "1  0ad104dbed99be0cd858aa772765ddedade554601a981b...  A005930  20180131   \n",
       "2  0ad104dbed99be0cd858aa772765ddedade554601a981b...  A005070  20180517   \n",
       "\n",
       "   hist_d iem_krl_nm  btp_cfc_cd  mkt_pr_tal_scl_tp_cd  stk_dit_cd  \n",
       "0     6.0       GS건설           1                     1           1  \n",
       "1    48.0       삼성전자           9                     1           1  \n",
       "2     3.0     코스모신소재          12                     2          99  "
      ]
     },
     "execution_count": 10,
     "metadata": {},
     "output_type": "execute_result"
    }
   ],
   "source": [
    "train_data.head(3)"
   ]
  },
  {
   "cell_type": "code",
   "execution_count": 11,
   "metadata": {},
   "outputs": [],
   "source": [
    "\n",
    "hist[\"stk_p\"] = hist[\"tot_aet_amt\"] / hist[\"bnc_qty\"]\n",
    "hist = hist.fillna(0)\n",
    "\n",
    "train_data = pd.merge(train_data, hist, how = \"left\", on = [\"act_id\", \"iem_cd\"])\n",
    "train_data = train_data[(train_data[\"byn_dt\"] == train_data[\"bse_dt\"])]\n",
    "train_data.reset_index(drop = True, inplace = True)\n",
    "\n",
    "test_data = pd.merge(test_data, hist, how = \"left\", on = [\"act_id\", \"iem_cd\"])\n",
    "test_data = test_data[(test_data[\"byn_dt\"] == test_data[\"bse_dt\"])]\n",
    "test_data.reset_index(drop = True, inplace = True)\n",
    "\n",
    "train_data = train_data.drop([\"act_id\", \"iem_cd\", \"byn_dt\", \"bse_dt\"], axis = 1)\n",
    "test_data = test_data.drop([\"act_id\", \"iem_cd\", \"byn_dt\", \"submit_id\", \"hold_d\", \"bse_dt\"], axis = 1)\n",
    "\n",
    "L_encoder = LabelEncoder()\n",
    "L_encoder.fit(iem[\"iem_krl_nm\"])\n",
    "train_data[\"iem_krl_nm\"] = L_encoder.transform(train_data[\"iem_krl_nm\"])\n",
    "test_data[\"iem_krl_nm\"] = L_encoder.transform(test_data[\"iem_krl_nm\"])"
   ]
  },
  {
   "cell_type": "code",
   "execution_count": 12,
   "metadata": {},
   "outputs": [],
   "source": [
    "train_data.reset_index(drop = True, inplace=True)\n",
    "train_label.reset_index(drop = True, inplace=True)"
   ]
  },
  {
   "cell_type": "code",
   "execution_count": 13,
   "metadata": {},
   "outputs": [
    {
     "name": "stdout",
     "output_type": "stream",
     "text": [
      "Training until validation scores don't improve for 300 rounds\n",
      "[500]\tvalid_0's rmse: 4.21439\tvalid_0's l2: 17.7611\n",
      "[1000]\tvalid_0's rmse: 4.05912\tvalid_0's l2: 16.4765\n",
      "[1500]\tvalid_0's rmse: 4.04072\tvalid_0's l2: 16.3274\n",
      "[2000]\tvalid_0's rmse: 4.03876\tvalid_0's l2: 16.3116\n",
      "Did not meet early stopping. Best iteration is:\n",
      "[1718]\tvalid_0's rmse: 4.03614\tvalid_0's l2: 16.2904\n",
      "Training until validation scores don't improve for 300 rounds\n",
      "[500]\tvalid_0's rmse: 1.32651\tvalid_0's l2: 1.75962\n",
      "Early stopping, best iteration is:\n",
      "[685]\tvalid_0's rmse: 1.26441\tvalid_0's l2: 1.59873\n",
      "Training until validation scores don't improve for 300 rounds\n",
      "[500]\tvalid_0's rmse: 0.682567\tvalid_0's l2: 0.465898\n",
      "[1000]\tvalid_0's rmse: 0.472995\tvalid_0's l2: 0.223725\n",
      "Early stopping, best iteration is:\n",
      "[823]\tvalid_0's rmse: 0.47138\tvalid_0's l2: 0.222199\n",
      "Training until validation scores don't improve for 300 rounds\n",
      "[500]\tvalid_0's rmse: 0.573799\tvalid_0's l2: 0.329245\n",
      "[1000]\tvalid_0's rmse: 0.414093\tvalid_0's l2: 0.171473\n",
      "Early stopping, best iteration is:\n",
      "[964]\tvalid_0's rmse: 0.413991\tvalid_0's l2: 0.171389\n",
      "Training until validation scores don't improve for 300 rounds\n",
      "[500]\tvalid_0's rmse: 0.544883\tvalid_0's l2: 0.296898\n",
      "[1000]\tvalid_0's rmse: 0.402337\tvalid_0's l2: 0.161875\n",
      "[1500]\tvalid_0's rmse: 0.401983\tvalid_0's l2: 0.16159\n",
      "[2000]\tvalid_0's rmse: 0.401573\tvalid_0's l2: 0.161261\n",
      "Did not meet early stopping. Best iteration is:\n",
      "[1999]\tvalid_0's rmse: 0.401561\tvalid_0's l2: 0.161251\n",
      "Training until validation scores don't improve for 300 rounds\n",
      "[500]\tvalid_0's rmse: 0.510189\tvalid_0's l2: 0.260292\n",
      "[1000]\tvalid_0's rmse: 0.401198\tvalid_0's l2: 0.16096\n",
      "Early stopping, best iteration is:\n",
      "[979]\tvalid_0's rmse: 0.400945\tvalid_0's l2: 0.160757\n",
      "Training until validation scores don't improve for 300 rounds\n",
      "[500]\tvalid_0's rmse: 0.449216\tvalid_0's l2: 0.201795\n",
      "[1000]\tvalid_0's rmse: 0.380014\tvalid_0's l2: 0.144411\n",
      "Early stopping, best iteration is:\n",
      "[1003]\tvalid_0's rmse: 0.380014\tvalid_0's l2: 0.144411\n",
      "Training until validation scores don't improve for 300 rounds\n",
      "[500]\tvalid_0's rmse: 0.427152\tvalid_0's l2: 0.182459\n",
      "[1000]\tvalid_0's rmse: 0.379899\tvalid_0's l2: 0.144323\n",
      "[1500]\tvalid_0's rmse: 0.379848\tvalid_0's l2: 0.144285\n",
      "Early stopping, best iteration is:\n",
      "[1455]\tvalid_0's rmse: 0.379847\tvalid_0's l2: 0.144283\n",
      "Training until validation scores don't improve for 300 rounds\n",
      "[500]\tvalid_0's rmse: 0.410642\tvalid_0's l2: 0.168627\n",
      "[1000]\tvalid_0's rmse: 0.382098\tvalid_0's l2: 0.145999\n",
      "Early stopping, best iteration is:\n",
      "[823]\tvalid_0's rmse: 0.382059\tvalid_0's l2: 0.145969\n",
      "Training until validation scores don't improve for 300 rounds\n",
      "[500]\tvalid_0's rmse: 0.478825\tvalid_0's l2: 0.229273\n",
      "Early stopping, best iteration is:\n",
      "[577]\tvalid_0's rmse: 0.466123\tvalid_0's l2: 0.21727\n"
     ]
    }
   ],
   "source": [
    "models = []\n",
    "\n",
    "folds = KFold(n_splits=10)\n",
    "for train_idx, val_idx in folds.split(train_data):\n",
    "    \n",
    "    train_x = train_data.iloc[train_idx, :]\n",
    "    train_y = train_label[train_idx]\n",
    "    val_x = train_data.iloc[val_idx, :]\n",
    "    val_y = train_label[val_idx]\n",
    "    \n",
    "    model = LGBMRegressor(objective= \"regression\",\n",
    "                          max_depth= 5,\n",
    "                          n_estimators= 2000,\n",
    "                          learning_rate= 0.01,\n",
    "                          num_leaves = 31)\n",
    "    \n",
    "    model.fit(train_x, train_y,\n",
    "              eval_set=[(val_x, val_y)],\n",
    "              eval_metric=[\"rmse\"],\n",
    "              early_stopping_rounds=300,\n",
    "              verbose=500)\n",
    "    \n",
    "    models.append(model)"
   ]
  },
  {
   "cell_type": "code",
   "execution_count": 14,
   "metadata": {},
   "outputs": [],
   "source": [
    "result = []\n",
    "for i in models:\n",
    "    result.append(i.predict(test_data))\n",
    "predict = np.mean(result, axis = 0)"
   ]
  },
  {
   "cell_type": "code",
   "execution_count": 15,
   "metadata": {},
   "outputs": [
    {
     "data": {
      "text/plain": [
       "array([254.79927029, 557.53350053, 232.26625441, ..., 895.50353813,\n",
       "        18.99762344,   7.46634223])"
      ]
     },
     "execution_count": 15,
     "metadata": {},
     "output_type": "execute_result"
    }
   ],
   "source": [
    "predict"
   ]
  },
  {
   "cell_type": "code",
   "execution_count": 16,
   "metadata": {},
   "outputs": [],
   "source": [
    "submission[\"hold_d\"] = np.round(predict)"
   ]
  },
  {
   "cell_type": "code",
   "execution_count": 17,
   "metadata": {},
   "outputs": [],
   "source": [
    "submission.to_csv(\"dacon_baseline.csv\", index = False)"
   ]
  },
  {
   "cell_type": "code",
   "execution_count": null,
   "metadata": {},
   "outputs": [],
   "source": []
  }
 ],
 "metadata": {
  "kernelspec": {
   "display_name": "Python 3",
   "language": "python",
   "name": "python3"
  },
  "language_info": {
   "codemirror_mode": {
    "name": "ipython",
    "version": 3
   },
   "file_extension": ".py",
   "mimetype": "text/x-python",
   "name": "python",
   "nbconvert_exporter": "python",
   "pygments_lexer": "ipython3",
   "version": "3.8.5"
  }
 },
 "nbformat": 4,
 "nbformat_minor": 4
}
